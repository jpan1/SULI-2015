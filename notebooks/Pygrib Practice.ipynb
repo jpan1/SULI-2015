{
 "cells": [
  {
   "cell_type": "code",
   "execution_count": 36,
   "metadata": {
    "collapsed": true
   },
   "outputs": [],
   "source": [
    "import pygrib\n",
    "from matplotlib import pyplot as plt\n",
    "from matplotlib import colors\n",
    "import numpy as np\n",
    "import glob\n",
    "from mpl_toolkits.basemap import Basemap, addcyclic\n",
    "import pyart\n",
    "import os\n",
    "from netCDF4 import num2date\n",
    "%matplotlib inline"
   ]
  },
  {
   "cell_type": "code",
   "execution_count": 37,
   "metadata": {
    "collapsed": false
   },
   "outputs": [],
   "source": [
    "directory = os.getcwd()\n",
    "\n",
    "dirpath = os.path.abspath('../data')\n",
    "\n",
    "filenames = os.listdir(dirpath)\n",
    "  \n",
    "os.chdir(dirpath)\n"
   ]
  },
  {
   "cell_type": "code",
   "execution_count": 40,
   "metadata": {
    "collapsed": false
   },
   "outputs": [],
   "source": [
    "files = []\n",
    "\n",
    "for file in glob.glob(\"*.grib2\"):\n",
    "    files.append(file)"
   ]
  },
  {
   "cell_type": "code",
   "execution_count": 47,
   "metadata": {
    "collapsed": false
   },
   "outputs": [],
   "source": [
    "x = files"
   ]
  },
  {
   "cell_type": "code",
   "execution_count": 43,
   "metadata": {
    "collapsed": false
   },
   "outputs": [
    {
     "name": "stdout",
     "output_type": "stream",
     "text": [
      "KLOT_20150608_1845              KVNX20110520_112410_V06.gz\r\n",
      "KVNX20110520_100147_V06.gz      KVNX20110520_112830_V06.gz\r\n",
      "KVNX20110520_100608_V06.gz      KVNX20110520_113251_V06.gz\r\n",
      "KVNX20110520_101028_V06.gz      KVNX20110520_113710_V06.gz\r\n",
      "KVNX20110520_101447_V06.gz      KVNX20110520_114130_V06.gz\r\n",
      "KVNX20110520_101906_V06.gz      KVNX20110520_114550_V06.gz\r\n",
      "KVNX20110520_102327_V06.gz      KVNX20110520_115011_V06.gz\r\n",
      "KVNX20110520_102747_V06.gz      KVNX20110520_115431_V06.gz\r\n",
      "KVNX20110520_103207_V06.gz      KVNX20110520_115851_V06.gz\r\n",
      "KVNX20110520_103628_V06.gz      KVNX20110520_120311_V06.gz\r\n",
      "KVNX20110520_104047_V06.gz      KVNX20110520_120731_V06.gz\r\n",
      "KVNX20110520_104507_V06.gz      KVNX20110520_121150_V06.gz\r\n",
      "KVNX20110520_104928_V06.gz      KVNX20110520_121611_V06.gz\r\n",
      "KVNX20110520_105349_V06.gz      KVNX20110520_122030_V06.gz\r\n",
      "KVNX20110520_105809_V06.gz      KVNX20110520_122452_V06.gz\r\n",
      "KVNX20110520_110230_V06.gz      KVNX20110520_122911_V06.gz\r\n",
      "KVNX20110520_110651_V06.gz      KVNX20110520_123331_V06.gz\r\n",
      "KVNX20110520_111111_V06.gz      KVNX20110520_123751_V06.gz\r\n",
      "KVNX20110520_111530_V06         KVNX20110520_124211_V06.gz\r\n",
      "KVNX20110520_111530_V06.gz      hrrr.3d.201403032300f001.grib2\r\n",
      "KVNX20110520_111951_V06.gz      hrrr.3d.201506151200f001.grib2\r\n"
     ]
    }
   ],
   "source": [
    "ls"
   ]
  },
  {
   "cell_type": "code",
   "execution_count": 48,
   "metadata": {
    "collapsed": true
   },
   "outputs": [],
   "source": [
    "parameters = ['Cloud mixing ratio', 'Relative humidity', 'Absolute velocity']\n",
    "scalings = [1,1,1]"
   ]
  },
  {
   "cell_type": "code",
   "execution_count": 49,
   "metadata": {
    "collapsed": false
   },
   "outputs": [
    {
     "ename": "NameError",
     "evalue": "name 'plothrrrfromfile' is not defined",
     "output_type": "error",
     "traceback": [
      "\u001b[0;31m---------------------------------------------------------------------------\u001b[0m",
      "\u001b[0;31mNameError\u001b[0m                                 Traceback (most recent call last)",
      "\u001b[0;32m<ipython-input-49-3b143d1c1583>\u001b[0m in \u001b[0;36m<module>\u001b[0;34m()\u001b[0m\n\u001b[1;32m      3\u001b[0m     \u001b[0mscale\u001b[0m \u001b[0;34m=\u001b[0m \u001b[0mscalings\u001b[0m\u001b[0;34m[\u001b[0m\u001b[0mj\u001b[0m\u001b[0;34m]\u001b[0m\u001b[0;34m\u001b[0m\u001b[0m\n\u001b[1;32m      4\u001b[0m     \u001b[0;32mfor\u001b[0m \u001b[0mi\u001b[0m \u001b[0;32min\u001b[0m \u001b[0mx\u001b[0m\u001b[0;34m:\u001b[0m\u001b[0;34m\u001b[0m\u001b[0m\n\u001b[0;32m----> 5\u001b[0;31m         \u001b[0mplothrrrfromfile\u001b[0m\u001b[0;34m(\u001b[0m\u001b[0mi\u001b[0m\u001b[0;34m,\u001b[0m \u001b[0mparameter\u001b[0m\u001b[0;34m,\u001b[0m \u001b[0mscaling\u001b[0m\u001b[0;34m=\u001b[0m\u001b[0mscale\u001b[0m\u001b[0;34m)\u001b[0m\u001b[0;34m\u001b[0m\u001b[0m\n\u001b[0m",
      "\u001b[0;31mNameError\u001b[0m: name 'plothrrrfromfile' is not defined"
     ]
    }
   ],
   "source": [
    "for j in range(len(parameters)):\n",
    "    parameter = parameters[j]\n",
    "    scale = scalings[j]\n",
    "    for i in x:\n",
    "        plothrrrfromfile(i, parameter, scaling=scale)"
   ]
  },
  {
   "cell_type": "code",
   "execution_count": 7,
   "metadata": {
    "collapsed": false
   },
   "outputs": [
    {
     "name": "stdout",
     "output_type": "stream",
     "text": [
      "/Users/jpan/SULI-2015/notebooks\n"
     ]
    }
   ],
   "source": [
    "print directory"
   ]
  },
  {
   "cell_type": "code",
   "execution_count": null,
   "metadata": {
    "collapsed": false
   },
   "outputs": [],
   "source": [
    "filename = '../data/hrrr.3d.201403032300f001.grib2'\n",
    "myfile = pygrib.open(filename)"
   ]
  }
 ],
 "metadata": {
  "kernelspec": {
   "display_name": "Python 2",
   "language": "python",
   "name": "python2"
  },
  "language_info": {
   "codemirror_mode": {
    "name": "ipython",
    "version": 2
   },
   "file_extension": ".py",
   "mimetype": "text/x-python",
   "name": "python",
   "nbconvert_exporter": "python",
   "pygments_lexer": "ipython2",
   "version": "2.7.10"
  }
 },
 "nbformat": 4,
 "nbformat_minor": 0
}
