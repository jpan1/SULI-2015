{
 "cells": [
  {
   "cell_type": "code",
   "execution_count": 7,
   "metadata": {
    "collapsed": false
   },
   "outputs": [],
   "source": [
    "import netCDF4\n",
    "from mpl_toolkits.basemap import Basemap, pyproj\n",
    "from pyproj import Proj\n",
    "from matplotlib import dates\n",
    "import matplotlib.pyplot as plt\n",
    "import numpy as np\n",
    "import datetime\n",
    "import matplotlib.dates as mdates\n",
    "import matplotlib.cbook as cbook\n"
   ]
  },
  {
   "cell_type": "code",
   "execution_count": 34,
   "metadata": {
    "collapsed": true
   },
   "outputs": [],
   "source": [
    "dataset = netCDF4.Dataset('../data/netCDF_datafiles/selected_data_023_000.nc')\n",
    "ncep_hrrr = netCDF4.Dataset('http://thredds-jumbo.unidata.ucar.edu/thredds/dodsC/grib/NCEP/HRRR/CONUS_2p5km/TwoD')"
   ]
  },
  {
   "cell_type": "code",
   "execution_count": 35,
   "metadata": {
    "collapsed": false
   },
   "outputs": [
    {
     "name": "stdout",
     "output_type": "stream",
     "text": [
      "<type 'netCDF4._netCDF4.Dataset'>\n"
     ]
    }
   ],
   "source": [
    "print type(dataset)"
   ]
  },
  {
   "cell_type": "code",
   "execution_count": null,
   "metadata": {
    "collapsed": true
   },
   "outputs": [],
   "source": [
    "print dataset.variables"
   ]
  },
  {
   "cell_type": "code",
   "execution_count": 36,
   "metadata": {
    "collapsed": true
   },
   "outputs": [],
   "source": [
    "def lat_lons(open_dap_dataset, proj_key = 'LambertConformal_Projection'):\n",
    "    xg, yg = np.meshgrid(open_dap_dataset.variables['x'][:]*1000.0, open_dap_dataset.variables['y'][:]*1000.0)\n",
    "    pnyc = pyproj.Proj(proj = 'lcc', \n",
    "                       lat_1 = open_dap_dataset.variables[proj_key].latitude_of_projection_origin,\n",
    "                       lat_2 = open_dap_dataset.variables[proj_key].latitude_of_projection_origin,\n",
    "                       lat_0 = open_dap_dataset.variables[proj_key].latitude_of_projection_origin,\n",
    "                       lon_0 = open_dap_dataset.variables[proj_key].longitude_of_central_meridian )\n",
    "    return pnyc(xg, yg, inverse = True)"
   ]
  },
  {
   "cell_type": "code",
   "execution_count": 37,
   "metadata": {
    "collapsed": false
   },
   "outputs": [],
   "source": [
    "lon, lat = lat_lons(ncep_hrrr)"
   ]
  },
  {
   "cell_type": "code",
   "execution_count": 21,
   "metadata": {
    "collapsed": false
   },
   "outputs": [
    {
     "name": "stdout",
     "output_type": "stream",
     "text": [
      "(array([213]), array([965]))\n",
      "(array([624]), array([504]))\n",
      "(array([1075]), array([1022]))\n",
      "(array([725]), array([2051]))\n"
     ]
    }
   ],
   "source": [
    "SGPllcrner_lat = 36.04554\n",
    "SGPllcrner_lon = -98.158014\n",
    "SGPupcrner_lat = 36.93360\n",
    "SGPupcrner_lon = -97.025525\n",
    "\n",
    "a = np.copy(lon, 'K')\n",
    "b = np.copy(lat, 'K')\n",
    "\n",
    "for i in range(len(a)):\n",
    "    for j in range(len(a[i])):\n",
    "        value = abs(a[i][j] - SGPllcrner_lon)\n",
    "        a[i][j] = value\n",
    "\n",
    "SGPllcrner_lon_index = np.where(a == a.min())\n",
    "print SGPllcrner_lon_index\n",
    "\n",
    "for i in range(len(b)):\n",
    "    for j in range(len(b[i])):\n",
    "        value = abs(b[i][j] - SGPllcrner_lat)\n",
    "        b[i][j] = value\n",
    "\n",
    "SGPllcrner_lat_index = np.where(b == b.min())\n",
    "print SGPllcrner_lat_index\n",
    "\n",
    "a = np.copy(lon,'K')\n",
    "b = np.copy(lat, 'K')\n",
    "\n",
    "for i in range(len(a)):\n",
    "    for j in range(len(a[i])):\n",
    "        value = abs(a[i][j] - SGPupcrner_lon)\n",
    "        a[i][j] = value\n",
    "        \n",
    "SGPupcrner_lon_index = np.where(a == a.min())\n",
    "print SGPupcrner_lon_index\n",
    "\n",
    "for i in range(len(b)):\n",
    "    for j in range(len(b[i])):\n",
    "        value = abs(b[i][j] - SGPupcrner_lat)\n",
    "        b[i][j] = value\n",
    "\n",
    "SGPupcrner_lat_index = np.where(b == b.min())\n",
    "print SGPupcrner_lat_index"
   ]
  },
  {
   "cell_type": "code",
   "execution_count": 39,
   "metadata": {
    "collapsed": false
   },
   "outputs": [
    {
     "name": "stdout",
     "output_type": "stream",
     "text": [
      "(1377, 2145)\n",
      "(1377, 2145)\n"
     ]
    }
   ],
   "source": [
    "print lat.shape\n",
    "print lon.shape"
   ]
  },
  {
   "cell_type": "code",
   "execution_count": 5,
   "metadata": {
    "collapsed": true
   },
   "outputs": [],
   "source": [
    "selected_data_list = []\n",
    "timeflt_list = []"
   ]
  },
  {
   "cell_type": "code",
   "execution_count": 6,
   "metadata": {
    "collapsed": true
   },
   "outputs": [],
   "source": [
    "selected_data_list.extend(('../data/netCDF_datafiles/selected_data_023_000.nc', \\\n",
    "                           '../data/netCDF_datafiles/selected_data_023_001.nc', \\\n",
    "                           '../data/netCDF_datafiles/selected_data_023_002.nc',\\\n",
    "                           '../data/netCDF_datafiles/selected_data_023_003.nc', \\\n",
    "                           '../data/netCDF_datafiles/selected_data_023_004.nc', \\\n",
    "                           '../data/netCDF_datafiles/selected_data_023_005.nc', \\\n",
    "                           '../data/netCDF_datafiles/selected_data_023_006.nc',\\\n",
    "                           '../data/netCDF_datafiles/selected_data_023_007.nc', \\\n",
    "                           '../data/netCDF_datafiles/selected_data_023_008.nc', \\\n",
    "                           '../data/netCDF_datafiles/selected_data_023_009.nc'))"
   ]
  },
  {
   "cell_type": "code",
   "execution_count": 27,
   "metadata": {
    "collapsed": false
   },
   "outputs": [
    {
     "name": "stdout",
     "output_type": "stream",
     "text": [
      "735801.25\n",
      "2015-07-22 06:00:00\n",
      "102.0 :: Hour since 2015-07-18T00:00:00Z\n"
     ]
    }
   ],
   "source": [
    "dset = netCDF4.Dataset('../data/netCDF_datafiles/selected_data_011_007.nc')\n",
    "units = dset.timestamp[8:-1]\n",
    "timeflt = float(dset.timestamp[0:4])\n",
    "dateobj = netCDF4.num2date(timeflt, units)\n",
    "num = dates.date2num(dateobj)\n",
    "print num\n",
    "print dateobj\n",
    "print dset.timestamp"
   ]
  },
  {
   "cell_type": "code",
   "execution_count": 31,
   "metadata": {
    "collapsed": true
   },
   "outputs": [],
   "source": [
    "np.set_printoptions(threshold='nan')"
   ]
  },
  {
   "cell_type": "code",
   "execution_count": 32,
   "metadata": {
    "collapsed": false
   },
   "outputs": [
    {
     "name": "stdout",
     "output_type": "stream",
     "text": [
      "<type 'netCDF4._netCDF4.Variable'>\n",
      "float32 Planetary_boundary_layer_height_surface(y, x)\n",
      "    units: Hour since 2015-07-18T00:00:00Z\n",
      "unlimited dimensions: \n",
      "current shape = (1377, 2145)\n",
      "filling on, default _FillValue of 9.96920996839e+36 used\n",
      "\n",
      "[305.5 298.0625 274.25 269.75 286.5625 302.8125 310.0625 315.1875 317.75\n",
      " 321.0 319.75 316.125 311.0625 306.3125 303.1875 300.125 296.0 292.4375\n",
      " 289.5625 285.8125 277.6875 266.25 257.0625 256.375 264.6875 277.375\n",
      " 288.4375 293.375 289.1875 283.125 278.4375 275.0 270.875 281.0625 284.8125\n",
      " 283.125 277.625 272.0625 276.0625 282.6875 282.1875 281.75 280.5 277.6875\n",
      " 279.6875 278.3125 279.625 280.75 280.375 278.4375 276.625 275.6875 276.5\n",
      " 278.1875 279.375 279.9375 281.5 284.1875 287.4375 290.75 292.375 291.75\n",
      " 290.5 290.5625 292.1875 294.0 295.625 297.125 298.3125 298.5625 297.8125\n",
      " 296.75 295.5625 294.5 293.5625 292.25 291.25 291.0 290.875 289.9375 288.0\n",
      " 287.375 288.5625 289.5625 288.5625 286.3125 285.0625 281.9375 275.0625\n",
      " 268.3125 264.125 262.5625 261.875 259.875 258.4375 257.3125 256.75 257.875\n",
      " 261.5 263.125 262.4375 261.625 260.9375 260.125 258.875 255.875 253.3125\n",
      " 252.0 251.0625 250.625 251.0625 249.75 250.6875 250.375 252.3125 256.375\n",
      " 257.0 255.75 253.9375 253.0 253.9375 258.0625 265.375 257.6875 248.8125\n",
      " 245.25 245.0625 244.75 242.6875 238.875 233.625 233.375 237.5625 242.75\n",
      " 245.3125 241.8125 246.0 239.4375 232.5625 242.5 275.5625 290.6875 288.5625\n",
      " 285.125 283.75 281.1875 272.75 266.0 278.6875 288.25 292.25 291.0625\n",
      " 286.6875 283.1875 293.0625 302.5 310.6875 317.9375 317.875 275.75 169.25\n",
      " 210.3125 243.125 216.625 178.875 181.5625 172.125 164.0625 168.9375\n",
      " 199.1875 257.8125 196.6875 120.625 73.6875 27.5625 0.0 0.0 0.0 75.5\n",
      " 106.0625 63.9375 0.0 0.0 0.0 0.0 80.625 134.8125 137.75 127.75 46.25\n",
      " 42.0625 18.4375 0.0 0.0 7.4375 72.4375 60.0 63.375 54.25 39.75 25.5 1.3125\n",
      " 0.0 15.3125 2.875 0.0 0.0 0.0 0.0 0.0 0.0 153.8125 560.0 416.75 300.5\n",
      " 245.1875 228.5 227.6875 234.625 236.6875 255.375 257.875 262.3125 291.375\n",
      " 357.4375 427.375 412.25 362.4375 330.1875 273.4375 125.0 156.875 173.375\n",
      " 115.0625 89.75 67.0 9.625 86.375 87.625 70.75 94.3125 116.9375 29.9375 2.0\n",
      " 0.0 12.0 67.8125 107.5625 16.5 110.375 27.9375 88.375 83.0 0.0 0.0 0.0 0.0\n",
      " 0.0 0.0 33.5625 113.375 9.6875 0.0 0.0 0.0 0.0 0.0 0.0 0.0 0.0 0.0 0.0 0.0\n",
      " 0.0 0.0 0.0 0.0 0.0 0.0 0.0 0.0 0.0 0.0 0.0 0.0 0.0 0.0 0.0 0.0 0.0 1.5625\n",
      " 18.1875 3.375 0.0 0.0 0.0 0.0 0.0 0.0 0.0 0.0 0.0 0.0 0.0 0.0 0.0 0.0 0.0\n",
      " 0.0 0.0 0.0 0.0 0.0 0.0 0.0 0.0 0.0 0.0 0.0 0.0 0.0 0.0 0.0 0.0 0.0 0.0\n",
      " 0.0 0.0 0.0 0.0 0.0 0.0 0.0 0.0 0.0 0.0 0.0 0.0 0.0 0.0 0.0 0.0 0.0 0.0\n",
      " 0.0 0.0 0.0 0.0 0.0 0.0 0.0 0.0 0.0 0.0 0.0 0.0 0.0 0.0 0.0 0.0 0.0 0.0\n",
      " 0.0 0.0 0.0 0.0 0.0 0.0 0.0 0.0 0.0 0.0 0.0 0.0 0.0 0.0 0.0 36.875 74.8125\n",
      " 0.0 0.0 0.0 0.0 0.0 0.0 0.0 0.0 0.0 0.0 0.0 0.0 0.0 0.0 0.0 0.0 0.0 0.0\n",
      " 0.0 0.0 0.0 0.0 0.0 0.0 0.0 0.0 0.0 0.0 0.0 0.0 0.0 0.0 0.0 0.0 0.0 0.0\n",
      " 0.0 0.0 0.0 0.0 0.0 0.0 0.0 0.0 0.0 0.0 0.0 0.0 0.0 0.0 0.0 0.0 0.0 0.0\n",
      " 0.0 0.0 0.0 0.0 0.0 0.0 0.0 0.0 0.0 0.0 0.0 0.0 0.0 0.0 0.0 0.0 0.0 0.0\n",
      " 0.0 0.0 0.0 0.0 0.0 0.0 0.0 0.0 0.0 0.0 0.0 0.0 0.0 0.0 0.0 0.0 0.0 0.0\n",
      " 0.0 0.0 0.0 0.0 0.0 0.0 0.0 0.0 0.0 0.0 0.0 0.0 0.0 0.0 0.0 0.0 0.0 0.0\n",
      " 0.0 0.0 0.0 0.0 0.0 0.0 0.0 0.0 0.0 0.0 0.0 0.0 0.0 0.0 0.0 0.0 0.0 0.0\n",
      " 0.0 0.0 0.0 0.0 0.0 0.0 0.0 0.0 0.0 0.0 0.0 0.0 0.0 0.0 0.0 0.0 0.0 0.0\n",
      " 0.0 0.0 0.0 0.0 0.0 0.0 0.0 0.0 0.0 0.0 0.0 0.0 0.0 0.0 0.0 0.0 0.0 0.0\n",
      " 0.0 0.0 0.0 0.0 0.0 0.0 0.0 0.0 0.0 0.0 0.0 0.0 0.0 0.0 0.0 0.0 0.0 0.0\n",
      " 0.0 0.0 0.0 0.0 0.0 0.0 0.0 0.0 0.0 0.0 0.0 0.0 0.0 0.0 0.0 0.0 0.0 0.0\n",
      " 0.0 0.0 0.0 0.0 0.0 0.0 0.0 0.0 0.0 0.0 0.0 0.0 0.0 0.0 0.0 0.0 0.0 0.0\n",
      " 0.0 0.0 0.0 0.0 0.0 0.0 0.0 0.0 0.0 0.0 0.0 0.0 0.0 0.0 0.0 0.0 0.0 0.0\n",
      " 0.0 0.0 0.0 0.0 0.0 0.0 0.0 0.0 0.0 0.0 0.0 0.0 0.0 0.0 0.0 0.0 0.0 0.0\n",
      " 0.0 0.0 0.0 0.0 0.0 0.0 0.0 0.0 0.0 0.0 0.0 0.0 0.0 0.0 0.0 0.0 0.0 0.0\n",
      " 0.0 0.0 0.0 0.0 0.0 0.0 0.0 0.0 0.0 0.0 0.0 0.0 0.0 0.0 0.0 0.0 0.0 0.0\n",
      " 0.0 0.0 0.0 0.0 0.0 0.0 0.0 0.0 0.0 0.0 0.0 0.0 0.0 0.0 0.0 0.0 0.0 0.0\n",
      " 0.0 0.0 0.0 0.0 0.0 0.0 0.0 0.0 0.0 0.0 0.0 0.0 0.0 0.0 0.0 0.0 0.0 0.0\n",
      " 0.0 0.0 0.0 0.0 0.0 0.0 0.0 0.0 0.0 0.0 0.0 0.0 0.0 0.0 0.0 0.0 45.4375\n",
      " 83.375 0.0 0.0 0.0 0.0 0.0 0.0 0.0 0.0 0.0 0.0 0.0 0.0 0.0 0.0 0.0 0.0 0.0\n",
      " 0.0 0.0 0.0 0.0 0.0 0.0 0.0 0.0 0.0 0.0 0.0 0.0 0.0 0.0 0.0 0.0 0.0 0.0\n",
      " 12.375 129.0625 114.5 157.4375 210.6875 200.0625 100.875 213.5625 230.8125\n",
      " 204.5 141.625 97.6875 181.625 91.0625 23.125 51.0 125.8125 175.625 166.875\n",
      " 27.0625 0.0 0.0 0.0 0.0 0.0 0.0 0.0 0.0 0.0 0.0 0.0 0.0 0.0 0.0 0.0 0.0\n",
      " 0.0 0.0 0.0 0.0 0.0 0.0 0.0 0.0 0.0 0.0 0.0 0.0 0.0 0.0 0.0 0.0 0.0 0.0\n",
      " 0.0 0.0 0.0 0.0 0.0 0.0 0.0 0.0 0.0 0.0 0.0 0.0 0.0 0.0 0.0 0.0 0.0 0.0\n",
      " 0.0 0.0 0.0 0.0 0.0 0.0 0.0 0.0 0.0 0.0 0.0 0.0 0.0 0.0 0.0 0.0 0.0 0.0\n",
      " 0.0 0.0 0.0 0.0 0.0 0.0 0.0 0.0 0.0 0.0 0.0 0.0 0.0 0.0 0.0 16.8125 139.5\n",
      " 33.8125 0.0 0.0 43.8125 155.625 14.6875 0.0 0.0 0.0 0.0 0.0 0.0 0.0 0.0\n",
      " 38.1875 128.1875 235.375 284.75 295.5 296.5625 297.4375 298.875 299.6875\n",
      " 310.6875 322.125 318.875 308.9375 310.5 334.9375 370.125 365.3125 359.0625\n",
      " 358.3125 350.5625 346.4375 349.5 352.0 356.625 345.1875 298.8125 311.0\n",
      " 312.1875 188.1875 139.9375 169.5625 0.0 0.0 0.0 0.0 0.0 0.0 0.0 0.0 0.0\n",
      " 0.0 0.0 0.0 0.0 0.0 0.0 0.0 0.0 0.0 0.0 0.0 0.0 0.0 0.0 0.0 0.0 0.0 0.0\n",
      " 0.0 0.0 0.0 0.0 0.0 0.0 0.0 0.0 0.0 0.0 0.0 0.0 0.0 0.0 0.0 0.0 0.0 0.0\n",
      " 0.0 0.0 0.0 0.0 0.0 0.0 0.0 0.0 0.0 0.0 0.0 0.0 0.0 0.0 0.0 0.0 0.0 0.0\n",
      " 0.0 0.0 0.0 0.0 0.0 0.0 0.0 0.0 0.0 0.0 0.0 0.0 0.0 0.0 0.0 0.0 0.0 0.0\n",
      " 0.0 0.0 0.0 0.0 0.0 0.0 0.0 0.0 0.0 0.0 0.0 0.0 0.0 0.0 0.0 0.0 0.0 0.0\n",
      " 0.0 0.0 0.0 0.0 0.0 0.0 0.0 0.0 0.0 0.0 0.0 48.1875 309.1875 60.25 0.0 0.0\n",
      " 0.0 0.0 0.0 0.0 0.0 0.0 0.0 0.0 0.0 0.0 0.0 0.0 0.0 0.0 0.0 0.0 0.0 0.0\n",
      " 0.0 0.0 0.0 0.0 0.0 0.0 0.0 0.0 0.0 0.0 48.125 102.0625 86.875 4.1875 0.0\n",
      " 0.0 0.0 0.0 0.0 0.0 0.0 0.0 0.0 0.0 0.0 0.0 0.0 0.0 0.0 0.0 0.0 0.0 0.0\n",
      " 0.0 0.0 0.0 0.0 0.0 0.0 0.0 0.0 0.0 0.0 0.0 0.0 0.0 0.0 0.0 0.0 0.0 0.0\n",
      " 0.0 0.0 0.0 0.0 0.0 237.375 261.3125 0.0 0.0 0.0 0.0 0.0 0.0 0.0 0.0 0.0\n",
      " 0.0 0.0 0.0 0.0 0.0 0.0 0.0 0.0 0.0 0.0 0.0 0.0 0.0 0.0 0.0 0.0 0.0 0.0\n",
      " 0.0 0.0 0.0 0.0 0.0 0.0 0.0 0.0 0.0 0.0 0.0 0.0 0.0 0.0 0.0 0.0 0.0 0.0\n",
      " 0.0 0.0 0.0 0.0 0.0 0.0 0.0 0.0 0.0 0.0 0.0 0.0 0.0 0.0 0.0 0.0 0.0 0.0\n",
      " 0.0 0.0 0.0 0.0 0.0 0.0 0.0 0.0 0.0 0.0 0.0 0.0 0.0 0.0 0.0 0.0 0.0 0.0\n",
      " 0.0 0.0 0.0 0.0 0.0 0.0 0.0 0.0 0.0 0.0 0.0 0.0 0.0 0.0 0.0 0.0 0.0 0.0\n",
      " 0.0 0.0 0.0 0.0 0.0 0.0 0.0 0.0 0.0 0.0 0.0 0.0 28.1875 285.875 258.3125\n",
      " 196.5625 151.1875 102.1875 7.125 82.0 104.6875 118.6875 79.375 0.0 0.0 0.0\n",
      " 0.0 0.0 0.0 0.0 0.0 0.0 0.0 0.0 0.0 0.0 0.0 0.0 0.0 0.0 0.0 0.0 0.0 0.0\n",
      " 0.0 0.0 0.0 0.0 0.0 0.0 0.0 0.0 0.0 0.0 0.0 0.0 0.0 0.0 0.0 0.0 0.0 0.0\n",
      " 0.0 0.0 0.0 0.0 0.0 0.0 0.0 0.0 0.0 0.0 0.0 0.0 0.0 0.0 0.0 0.0 0.0 0.0\n",
      " 0.0 0.0 0.0 0.0 0.0 0.0 0.0 0.0 0.0 0.0 0.0 0.0 0.0 0.0 0.0 0.0 0.0 0.0\n",
      " 0.0 0.875 3.3125 0.0 0.0 0.0 0.0 0.0 0.0 0.0 0.0 0.0 0.0 0.0 0.0 0.0 0.0\n",
      " 0.0 0.0 0.0 0.0 0.0 0.0 0.0 0.0 0.0 0.0 0.0 0.0 0.0 0.0 0.0 0.0 0.0 0.0\n",
      " 0.0 0.0 0.0 0.0 205.5625 479.875 471.3125 0.0 0.0 0.0 127.6875 203.1875\n",
      " 50.0 0.5625 0.0 0.0 0.0 0.0 0.0 0.0 0.0 0.0 0.0 0.0 0.0 0.0 0.0 0.0 0.0\n",
      " 0.0 0.0 0.0 0.0 0.0 0.0 0.0 0.0 0.0 0.0 0.0 0.0 0.0 0.0 0.0 0.0 0.0 0.0\n",
      " 0.0 0.0 0.0 0.0 0.0 0.0 0.0 0.0 0.0 0.0 0.0 0.0 0.0 0.0 0.0 0.0 0.0 0.0\n",
      " 0.0 0.0 0.0 0.0 0.0 0.0 0.0 0.0 0.0 0.0 0.0 0.0 0.0 0.0 0.0 0.0 0.0 0.0\n",
      " 0.0 0.0 0.0 0.0 0.0 0.0 0.0 0.0 0.0 0.0 0.0 0.0 0.0 0.0 0.0 0.0 0.0 0.0\n",
      " 195.5625 93.25 15.375 0.0 0.0 0.0 103.125 514.75 406.125 34.9375 109.6875\n",
      " 8.8125 0.0 0.0 0.0 0.0 0.0 0.0 0.0 0.0 0.0 0.0 0.0 0.0 0.0 0.0 0.0 0.0 0.0\n",
      " 0.0 0.0 0.0 0.0 0.0 0.0 0.0 0.0 0.0 0.0 0.0 0.0 0.0 0.0 0.0 0.0 0.0 0.0\n",
      " 0.0 0.0 0.0 0.0 0.0 0.0 0.0 0.0 0.0 0.0 0.0 0.0 0.0 0.0 0.0 0.0 0.0 0.0\n",
      " 0.0 0.0 0.0 0.0 0.0 0.0 0.0 0.0 0.0 0.0 0.0 0.0 0.0 0.0 0.0 0.0 0.0 0.0\n",
      " 0.0 0.0 0.0 0.0 0.0 0.0 0.0 0.0 0.0 0.0 0.0 0.0 0.0 0.0 0.0 0.0 0.0 0.0\n",
      " 0.0 0.0 0.0 0.0 0.0 0.0 0.0 0.0 0.0 0.0 0.0 0.0 0.0 0.0 0.0 0.0 0.0 0.0\n",
      " 0.0 0.0 0.0 0.0 0.0 0.0 0.0 0.0 0.0 0.0 0.0 0.0 0.0 0.0 0.0 0.0 0.0 0.0\n",
      " 0.0 0.0 0.0 0.0 0.0 0.0 0.0 0.0 0.0 0.0 0.0 0.0 0.0 0.0 0.0 0.0 0.0 0.0\n",
      " 0.0 0.0 0.0 0.0 0.0 0.0 0.0 0.0 0.0 0.0 0.0 0.0 0.0 0.0 0.0 0.0 0.0 0.0\n",
      " 0.0 0.0 0.0 0.0 0.0 0.0 0.0 0.0 0.0 0.0 0.0 0.0 0.0 0.0 0.0 0.0 0.0 0.0\n",
      " 0.0 0.0 0.0 0.0 0.0 0.0 0.0 0.0 0.0 0.0 0.0 0.0 0.0 0.0 0.0 0.0 0.0 0.0\n",
      " 0.0 0.0 0.0 0.0 0.0 0.0 0.0 0.0 0.0 0.0 0.0 0.0 0.0 0.0 0.0 0.0 0.0 0.0\n",
      " 0.0 0.0 0.0 0.0 0.0 0.0 0.0 0.0 0.0 0.0 0.0 0.0 0.0 144.875 333.875\n",
      " 377.875 209.0 158.6875 47.8125 0.0 0.0 0.0 0.0 0.0 0.0 0.0 0.0 0.0 0.0 0.0\n",
      " 0.0 0.0 0.0 0.0 0.0 0.0 0.0 0.0 0.0 0.0 0.0 0.0 0.0 0.0 0.0 0.0 0.0 0.0\n",
      " 0.0 0.0 0.0 0.0 0.0 0.0 0.0 0.0 0.0 0.0 0.0 0.0 0.0 0.0 0.0 0.0 0.0 0.0\n",
      " 0.0 0.0 0.0 0.0 0.0 0.0 0.0 0.0 0.0 0.0 0.0 0.0 1.5 21.6875 1.375 0.0 0.0\n",
      " 0.0 0.0 0.0 0.0 0.0 0.0 0.0 0.0 0.0 0.0 0.0 0.0 59.6875 140.9375 149.0625\n",
      " 253.1875 154.0625 39.4375 0.0 0.0 0.0 0.0 0.0 0.0 0.0 0.0 0.0 73.5 37.0\n",
      " 39.8125 110.375 128.375 5.75 0.0 0.0 0.0 0.0 0.0 0.0 0.0 42.8125 113.5\n",
      " 194.0 215.125 229.5 85.125 14.75 0.0 0.0 0.0 0.0 0.0 0.0 0.0 0.0 0.0 0.0\n",
      " 0.0 0.0 0.0 0.0 0.0 0.0 0.0 0.0 0.0 0.0 0.0 0.0 0.0 0.0 0.0 0.0 0.0 0.0\n",
      " 85.625 154.3125 184.1875 169.875 139.5625 115.9375 108.75 111.4375 118.5\n",
      " 133.0 171.1875 194.75 187.5625 171.6875 163.0 160.375 159.3125 157.6875\n",
      " 160.9375 168.3125 173.75 170.6875 159.875 153.4375 154.1875 163.0 179.1875\n",
      " 201.5 212.4375 211.5625 202.4375 193.0 192.625 208.5625 226.875 240.875\n",
      " 257.75 280.0625 304.5625 321.625 317.625 298.4375 293.5 303.4375 293.75\n",
      " 397.1875 519.9375 565.0625 477.0625 299.75 198.1875 220.3125 266.1875\n",
      " 280.0625 269.3125 248.625 221.9375 228.375 251.875 281.0625 325.6875\n",
      " 372.875 339.875 259.375 228.625 204.25 176.3125 161.75 183.0 196.3125\n",
      " 145.8125 100.5 82.625 74.5 78.0 86.75 85.9375 55.9375 9.375 0.0 0.0 132.5\n",
      " 428.25 478.1875 211.625 106.125 62.9375 96.5625 142.9375 226.8125 340.125\n",
      " 403.125 282.375 236.0 264.6875 378.5625 518.125 486.25 456.5 439.6875\n",
      " 445.5625 464.5625 471.125 429.25 384.0625 334.5625 249.4375 179.625 186.0\n",
      " 199.4375 173.9375 166.6875 203.4375 279.0625 410.625 393.6875 148.125\n",
      " 183.4375 196.375 107.625 119.1875 205.1875 256.25 303.8125 308.5 238.4375\n",
      " 0.0 0.0 0.0 0.0 0.0 0.0 0.0 0.0 0.0 0.0 0.0 5.5625 72.0625 113.8125\n",
      " 157.1875 207.5625 252.0 284.3125 389.0 397.5 392.25 393.375 418.4375\n",
      " 475.4375 496.875 497.375 503.375 513.0625 520.8125 522.1875 517.8125\n",
      " 519.875 522.5625 523.375 522.1875 521.625 517.375 512.8125 515.625\n",
      " 526.5625 540.5 547.375 539.375 522.5 519.0625 531.125 552.5 579.1875\n",
      " 613.625 613.5 579.1875 542.9375 535.1875 553.4375 597.3125 638.0625\n",
      " 669.125 660.75 613.0 592.5 635.75 670.0 683.1875 696.3125 700.0625\n",
      " 632.9375 608.0 624.8125 632.4375 643.3125 699.3125 672.625 628.5 611.4375\n",
      " 621.0625 648.1875 668.375 660.6875 710.0625 696.8125 644.5 607.5 623.5\n",
      " 681.125 673.1875 670.625 697.3125 726.8125 704.8125 703.3125 661.75\n",
      " 645.3125 683.0625 728.5625 691.875 696.875 682.5 656.75 635.6875 630.6875\n",
      " 642.25 666.125 686.1875 698.5 700.25 682.5 613.8125 557.5 534.0625\n",
      " 515.6875 484.3125 438.875 423.0625 462.625 508.4375 540.6875 556.25\n",
      " 549.1875 508.9375 484.375 501.0 546.125 589.0625 604.5625 575.3125\n",
      " 486.3125 418.75 414.75 470.3125 534.5 527.8125 510.0 521.5625 560.25\n",
      " 594.3125 584.1875 565.25 555.75 552.375 553.6875 556.375 551.75 -- -- --\n",
      " -- -- -- -- -- -- -- -- -- -- -- -- -- -- -- -- -- -- -- -- -- -- -- -- --\n",
      " -- -- -- -- -- -- -- -- -- -- -- -- -- -- -- -- -- -- -- -- -- -- -- -- --\n",
      " -- -- -- -- -- -- --]\n"
     ]
    }
   ],
   "source": [
    "print dset.variables['Planetary_boundary_layer_height_surface']\n",
    "pblh = dset.variables['Planetary_boundary_layer_height_surface'][625]\n",
    "print pblh\n"
   ]
  },
  {
   "cell_type": "code",
   "execution_count": 20,
   "metadata": {
    "collapsed": false
   },
   "outputs": [
    {
     "name": "stdout",
     "output_type": "stream",
     "text": [
      "735801.25\n",
      "2015-07-22 06:00:00\n",
      "102.0 :: Hour since 2015-07-18T00:00:00Z\n"
     ]
    }
   ],
   "source": [
    "dset = netCDF4.Dataset('../data/netCDF_datafiles/selected_data_012_006.nc')\n",
    "units = dset.timestamp[8:-1]\n",
    "timeflt = float(dset.timestamp[0:4])\n",
    "dateobj = netCDF4.num2date(timeflt, units)\n",
    "num = dates.date2num(dateobj)\n",
    "print num\n",
    "print dateobj\n",
    "print dset.timestamp"
   ]
  },
  {
   "cell_type": "code",
   "execution_count": 21,
   "metadata": {
    "collapsed": false
   },
   "outputs": [
    {
     "name": "stdout",
     "output_type": "stream",
     "text": [
      "0.0\n"
     ]
    }
   ],
   "source": [
    "pblh = dset.variables['Planetary_boundary_layer_height_surface'][213][965]\n",
    "print pblh"
   ]
  },
  {
   "cell_type": "code",
   "execution_count": null,
   "metadata": {
    "collapsed": true
   },
   "outputs": [],
   "source": []
  },
  {
   "cell_type": "code",
   "execution_count": null,
   "metadata": {
    "collapsed": true
   },
   "outputs": [],
   "source": []
  },
  {
   "cell_type": "code",
   "execution_count": null,
   "metadata": {
    "collapsed": true
   },
   "outputs": [],
   "source": []
  },
  {
   "cell_type": "code",
   "execution_count": null,
   "metadata": {
    "collapsed": true
   },
   "outputs": [],
   "source": []
  },
  {
   "cell_type": "code",
   "execution_count": null,
   "metadata": {
    "collapsed": true
   },
   "outputs": [],
   "source": []
  },
  {
   "cell_type": "code",
   "execution_count": null,
   "metadata": {
    "collapsed": true
   },
   "outputs": [],
   "source": []
  },
  {
   "cell_type": "code",
   "execution_count": null,
   "metadata": {
    "collapsed": true
   },
   "outputs": [],
   "source": []
  },
  {
   "cell_type": "code",
   "execution_count": 7,
   "metadata": {
    "collapsed": false
   },
   "outputs": [
    {
     "name": "stdout",
     "output_type": "stream",
     "text": [
      "735801.458333\n",
      "735801.5\n",
      "735801.541667\n",
      "735801.583333\n",
      "735801.625\n",
      "735801.666667\n",
      "735801.708333\n",
      "735801.75\n",
      "735801.791667\n",
      "735801.833333\n"
     ]
    }
   ],
   "source": [
    "for i in range(len(selected_data_list)):\n",
    "    dset = netCDF4.Dataset(selected_data_list[i])\n",
    "    units = dset.timestamp[8:-1]\n",
    "    timeflt = float(dset.timestamp[0:4])\n",
    "    dateobj = netCDF4.num2date(timeflt, units)\n",
    "    num = dates.date2num(dateobj)\n",
    "    timeflt_list.append(num)\n",
    "    print num"
   ]
  },
  {
   "cell_type": "code",
   "execution_count": 5,
   "metadata": {
    "collapsed": false
   },
   "outputs": [
    {
     "name": "stdout",
     "output_type": "stream",
     "text": [
      "[735801.4583333334, 735801.5, 735801.5416666666, 735801.5833333334, 735801.625, 735801.6666666666, 735801.7083333334, 735801.75, 735801.7916666666, 735801.8333333334]\n"
     ]
    }
   ],
   "source": [
    "print timeflt_list"
   ]
  },
  {
   "cell_type": "code",
   "execution_count": null,
   "metadata": {
    "collapsed": true
   },
   "outputs": [],
   "source": []
  },
  {
   "cell_type": "code",
   "execution_count": null,
   "metadata": {
    "collapsed": true
   },
   "outputs": [],
   "source": []
  },
  {
   "cell_type": "code",
   "execution_count": null,
   "metadata": {
    "collapsed": true
   },
   "outputs": [],
   "source": []
  },
  {
   "cell_type": "code",
   "execution_count": null,
   "metadata": {
    "collapsed": true
   },
   "outputs": [],
   "source": []
  },
  {
   "cell_type": "code",
   "execution_count": 22,
   "metadata": {
    "collapsed": true
   },
   "outputs": [],
   "source": [
    "dataset = netCDF4.Dataset('../data/netCDF_datafiles/selected_data_023_000.nc')"
   ]
  },
  {
   "cell_type": "code",
   "execution_count": 29,
   "metadata": {
    "collapsed": false
   },
   "outputs": [
    {
     "name": "stdout",
     "output_type": "stream",
     "text": [
      "(u'y', u'x')\n"
     ]
    }
   ],
   "source": [
    "pblh = dataset.variables[\"Planetary_boundary_layer_height_surface\"]\n",
    "print pblh.dimensions"
   ]
  },
  {
   "cell_type": "code",
   "execution_count": null,
   "metadata": {
    "collapsed": true
   },
   "outputs": [],
   "source": []
  },
  {
   "cell_type": "code",
   "execution_count": null,
   "metadata": {
    "collapsed": true
   },
   "outputs": [],
   "source": []
  },
  {
   "cell_type": "code",
   "execution_count": null,
   "metadata": {
    "collapsed": true
   },
   "outputs": [],
   "source": []
  },
  {
   "cell_type": "code",
   "execution_count": null,
   "metadata": {
    "collapsed": true
   },
   "outputs": [],
   "source": []
  },
  {
   "cell_type": "code",
   "execution_count": null,
   "metadata": {
    "collapsed": true
   },
   "outputs": [],
   "source": []
  },
  {
   "cell_type": "code",
   "execution_count": null,
   "metadata": {
    "collapsed": true
   },
   "outputs": [],
   "source": []
  },
  {
   "cell_type": "code",
   "execution_count": null,
   "metadata": {
    "collapsed": true
   },
   "outputs": [],
   "source": []
  },
  {
   "cell_type": "code",
   "execution_count": 10,
   "metadata": {
    "collapsed": false
   },
   "outputs": [
    {
     "name": "stdout",
     "output_type": "stream",
     "text": [
      "<class 'numpy.core.records.recarray'>\n"
     ]
    }
   ],
   "source": [
    "datafile = cbook.get_sample_data('goog.npy')\n",
    "r = np.load(datafile).view(np.recarray)\n",
    "print type(r)"
   ]
  },
  {
   "cell_type": "code",
   "execution_count": 11,
   "metadata": {
    "collapsed": false
   },
   "outputs": [
    {
     "data": {
      "text/plain": [
       "[<matplotlib.lines.Line2D at 0x10906d5d0>]"
      ]
     },
     "execution_count": 11,
     "metadata": {},
     "output_type": "execute_result"
    }
   ],
   "source": [
    "fig, ax = plt.subplots()\n",
    "ax.plot(r.date, r.adj_close)"
   ]
  },
  {
   "cell_type": "code",
   "execution_count": 17,
   "metadata": {
    "collapsed": false
   },
   "outputs": [],
   "source": [
    "years    = mdates.YearLocator()   # every year\n",
    "months   = mdates.MonthLocator()  # every month\n",
    "yearsFmt = mdates.DateFormatter('%Y')\n",
    "ax.xaxis.set_major_locator(years)\n",
    "ax.xaxis.set_major_formatter(yearsFmt)\n",
    "ax.xaxis.set_minor_locator(months)"
   ]
  },
  {
   "cell_type": "code",
   "execution_count": 18,
   "metadata": {
    "collapsed": false
   },
   "outputs": [
    {
     "data": {
      "text/plain": [
       "(731581.0, 733408.0)"
      ]
     },
     "execution_count": 18,
     "metadata": {},
     "output_type": "execute_result"
    }
   ],
   "source": [
    "datemin = datetime.date(r.date.min().year, 1, 1)\n",
    "datemax = datetime.date(r.date.max().year+1, 1, 1)\n",
    "ax.set_xlim(datemin, datemax)"
   ]
  },
  {
   "cell_type": "code",
   "execution_count": 19,
   "metadata": {
    "collapsed": true
   },
   "outputs": [],
   "source": [
    "def price(x): return '$%1.2f'%x\n",
    "ax.format_xdata = mdates.DateFormatter('%Y-%m-%d')\n",
    "ax.format_ydata = price\n",
    "ax.grid(True)"
   ]
  },
  {
   "cell_type": "code",
   "execution_count": null,
   "metadata": {
    "collapsed": true
   },
   "outputs": [],
   "source": [
    "fig.autofmt_xdate()\n",
    "\n",
    "plt.show()"
   ]
  }
 ],
 "metadata": {
  "kernelspec": {
   "display_name": "Python 2",
   "language": "python",
   "name": "python2"
  },
  "language_info": {
   "codemirror_mode": {
    "name": "ipython",
    "version": 2
   },
   "file_extension": ".py",
   "mimetype": "text/x-python",
   "name": "python",
   "nbconvert_exporter": "python",
   "pygments_lexer": "ipython2",
   "version": "2.7.10"
  }
 },
 "nbformat": 4,
 "nbformat_minor": 0
}
