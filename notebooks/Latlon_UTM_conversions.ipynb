{
 "cells": [
  {
   "cell_type": "code",
   "execution_count": 1,
   "metadata": {
    "collapsed": false
   },
   "outputs": [
    {
     "name": "stdout",
     "output_type": "stream",
     "text": [
      "Populating the interactive namespace from numpy and matplotlib\n"
     ]
    }
   ],
   "source": [
    "import numpy as np\n",
    "import netCDF4\n",
    "from matplotlib import pyplot as plt\n",
    "from mpl_toolkits.basemap import Basemap, pyproj\n",
    "from pyproj import Proj\n",
    "from pandas import DataFrame\n",
    "%pylab inline"
   ]
  },
  {
   "cell_type": "code",
   "execution_count": 2,
   "metadata": {
    "collapsed": true
   },
   "outputs": [],
   "source": [
    "ncep_hrrr = netCDF4.Dataset('http://thredds-jumbo.unidata.ucar.edu/thredds/dodsC/grib/NCEP/HRRR/CONUS_2p5km/TwoD')"
   ]
  },
  {
   "cell_type": "code",
   "execution_count": 3,
   "metadata": {
    "collapsed": true
   },
   "outputs": [],
   "source": [
    "SGP_lat = 36.491\n",
    "SGP_lon = -97.595"
   ]
  },
  {
   "cell_type": "code",
   "execution_count": 4,
   "metadata": {
    "collapsed": false
   },
   "outputs": [],
   "source": [
    "#pyproj object used for conversions\n",
    "myProj = Proj(\"+proj=utm +zone=14S, +north +ellps=WGS84 +datum=WGS84 +units=m +no_defs\")"
   ]
  },
  {
   "cell_type": "code",
   "execution_count": 6,
   "metadata": {
    "collapsed": true
   },
   "outputs": [],
   "source": [
    "#converts to UTM coordinates, denoted by x and y\n",
    "UTMx, UTMy = myProj(SGP_lon, SGP_lat)\n",
    "x, y = UTMx, UTMy"
   ]
  },
  {
   "cell_type": "code",
   "execution_count": 7,
   "metadata": {
    "collapsed": false
   },
   "outputs": [
    {
     "name": "stdout",
     "output_type": "stream",
     "text": [
      "625843.431953 4039327.46654\n"
     ]
    }
   ],
   "source": [
    "#SGP location in UTM\n",
    "print x, y"
   ]
  },
  {
   "cell_type": "code",
   "execution_count": 37,
   "metadata": {
    "collapsed": false
   },
   "outputs": [],
   "source": [
    "UTMx, UTMy = myProj(SGP_lon, SGP_lat)\n",
    "x, y = UTMx/1000.00, UTMy/1000.00\n"
   ]
  },
  {
   "cell_type": "code",
   "execution_count": 38,
   "metadata": {
    "collapsed": false
   },
   "outputs": [
    {
     "name": "stdout",
     "output_type": "stream",
     "text": [
      "625.843431953 4039.32746654\n"
     ]
    }
   ],
   "source": [
    "#SGP location in UTM\n",
    "print x, y"
   ]
  },
  {
   "cell_type": "code",
   "execution_count": 8,
   "metadata": {
    "collapsed": false
   },
   "outputs": [
    {
     "name": "stdout",
     "output_type": "stream",
     "text": [
      "(625843.4319525196, 575843.4319525196, 675843.4319525196) (4039327.4665361163, 3989327.4665361163, 4089327.4665361163)\n"
     ]
    }
   ],
   "source": [
    "xs = (x, x-50000, x+50000)\n",
    "ys = (y, y-50000, y+50000)\n",
    "print xs, ys"
   ]
  },
  {
   "cell_type": "code",
   "execution_count": 9,
   "metadata": {
    "collapsed": false
   },
   "outputs": [
    {
     "data": {
      "text/html": [
       "<div style=\"max-height:1000px;max-width:1500px;overflow:auto;\">\n",
       "<table border=\"1\" class=\"dataframe\">\n",
       "  <thead>\n",
       "    <tr style=\"text-align: right;\">\n",
       "      <th></th>\n",
       "      <th>UTMx Coordinates</th>\n",
       "      <th>UTMy Coordinates</th>\n",
       "    </tr>\n",
       "  </thead>\n",
       "  <tbody>\n",
       "    <tr>\n",
       "      <th>0</th>\n",
       "      <td> 625843.431953</td>\n",
       "      <td> 4039327.466536</td>\n",
       "    </tr>\n",
       "    <tr>\n",
       "      <th>1</th>\n",
       "      <td> 575843.431953</td>\n",
       "      <td> 3989327.466536</td>\n",
       "    </tr>\n",
       "    <tr>\n",
       "      <th>2</th>\n",
       "      <td> 675843.431953</td>\n",
       "      <td> 4089327.466536</td>\n",
       "    </tr>\n",
       "  </tbody>\n",
       "</table>\n",
       "</div>"
      ],
      "text/plain": [
       "   UTMx Coordinates  UTMy Coordinates\n",
       "0     625843.431953    4039327.466536\n",
       "1     575843.431953    3989327.466536\n",
       "2     675843.431953    4089327.466536"
      ]
     },
     "execution_count": 9,
     "metadata": {},
     "output_type": "execute_result"
    }
   ],
   "source": [
    "dataframe = DataFrame(np.c_[xs,ys], columns = ['UTMx Coordinates', 'UTMy Coordinates'])\n",
    "dataframe"
   ]
  },
  {
   "cell_type": "code",
   "execution_count": 10,
   "metadata": {
    "collapsed": true
   },
   "outputs": [],
   "source": [
    "sgplon, sgplat = myProj(dataframe['UTMx Coordinates'].values, dataframe['UTMy Coordinates'].values, inverse = True)"
   ]
  },
  {
   "cell_type": "code",
   "execution_count": 14,
   "metadata": {
    "collapsed": false
   },
   "outputs": [
    {
     "data": {
      "text/html": [
       "<div style=\"max-height:1000px;max-width:1500px;overflow:auto;\">\n",
       "<table border=\"1\" class=\"dataframe\">\n",
       "  <thead>\n",
       "    <tr style=\"text-align: right;\">\n",
       "      <th></th>\n",
       "      <th>UTMx Coordinates</th>\n",
       "      <th>UTMy Coordinates</th>\n",
       "      <th>Longitude</th>\n",
       "      <th>Latitude</th>\n",
       "    </tr>\n",
       "  </thead>\n",
       "  <tbody>\n",
       "    <tr>\n",
       "      <th>0</th>\n",
       "      <td> 625843.431953</td>\n",
       "      <td> 4039327.466536</td>\n",
       "      <td>-97.595000</td>\n",
       "      <td> 36.49100</td>\n",
       "    </tr>\n",
       "    <tr>\n",
       "      <th>1</th>\n",
       "      <td> 575843.431953</td>\n",
       "      <td> 3989327.466536</td>\n",
       "      <td>-98.158014</td>\n",
       "      <td> 36.04554</td>\n",
       "    </tr>\n",
       "    <tr>\n",
       "      <th>2</th>\n",
       "      <td> 675843.431953</td>\n",
       "      <td> 4089327.466536</td>\n",
       "      <td>-97.025525</td>\n",
       "      <td> 36.93360</td>\n",
       "    </tr>\n",
       "  </tbody>\n",
       "</table>\n",
       "</div>"
      ],
      "text/plain": [
       "   UTMx Coordinates  UTMy Coordinates  Longitude  Latitude\n",
       "0     625843.431953    4039327.466536 -97.595000  36.49100\n",
       "1     575843.431953    3989327.466536 -98.158014  36.04554\n",
       "2     675843.431953    4089327.466536 -97.025525  36.93360"
      ]
     },
     "execution_count": 14,
     "metadata": {},
     "output_type": "execute_result"
    }
   ],
   "source": [
    "#Row 1 and Row 2 represent the coordinates for the corners of the SGP basemap.\n",
    "finalconversion = DataFrame(np.c_[xs, ys, sgplon, sgplat], columns = ['UTMx Coordinates', 'UTMy Coordinates', 'Longitude', 'Latitude'])\n",
    "finalconversion"
   ]
  },
  {
   "cell_type": "code",
   "execution_count": 15,
   "metadata": {
    "collapsed": false
   },
   "outputs": [
    {
     "name": "stdout",
     "output_type": "stream",
     "text": [
      "-98.1580135296 36.0455401049 -97.025524957 36.9335998913\n"
     ]
    }
   ],
   "source": [
    "llxlon, llylat, urxlon, urylat = sgplon[1], sgplat[1], sgplon[2], sgplat[2]\n",
    "print llxlon, llylat, urxlon, urylat"
   ]
  },
  {
   "cell_type": "code",
   "execution_count": 17,
   "metadata": {
    "collapsed": true
   },
   "outputs": [],
   "source": [
    "def lat_lons(open_dap_dataset, proj_key = 'LambertConformal_Projection'):\n",
    "    xg, yg = np.meshgrid(open_dap_dataset.variables['x'][:]*1000.0, open_dap_dataset.variables['y'][:]*1000.0)\n",
    "    pnyc = pyproj.Proj(proj = 'lcc', \n",
    "                       lat_1 = open_dap_dataset.variables[proj_key].latitude_of_projection_origin,\n",
    "                       lat_2 = open_dap_dataset.variables[proj_key].latitude_of_projection_origin,\n",
    "                       lat_0 = open_dap_dataset.variables[proj_key].latitude_of_projection_origin,\n",
    "                       lon_0 = open_dap_dataset.variables[proj_key].longitude_of_central_meridian )\n",
    "    return pnyc(xg, yg, inverse = True)"
   ]
  },
  {
   "cell_type": "code",
   "execution_count": 18,
   "metadata": {
    "collapsed": true
   },
   "outputs": [],
   "source": [
    "lon, lat = lat_lons(ncep_hrrr)"
   ]
  },
  {
   "cell_type": "code",
   "execution_count": 19,
   "metadata": {
    "collapsed": false
   },
   "outputs": [
    {
     "data": {
      "text/plain": [
       "{}"
      ]
     },
     "execution_count": 19,
     "metadata": {},
     "output_type": "execute_result"
    },
    {
     "data": {
      "image/png": "[encoded data removed]",
      "text/plain": [
       "<matplotlib.figure.Figure at 0x108e87b90>"
      ]
     },
     "metadata": {},
     "output_type": "display_data"
    }
   ],
   "source": [
    "f = plt.figure(figsize = [15,8])\n",
    "z = ncep_hrrr.variables['Planetary_boundary_layer_height_surface']\n",
    "m = Basemap(llcrnrlon = llxlon,llcrnrlat = llylat, urcrnrlon = urxlon,\n",
    "               urcrnrlat = urylat, projection = 'mill', area_thresh =1000,\n",
    "               resolution='h')\n",
    "x, y = m(lon, lat)\n",
    "m.pcolormesh(x, y, z[0,0,:,:], vmin = None, vmax = None)\n",
    "m.drawstates()\n",
    "m.drawcoastlines(linewidth = 1.25)\n",
    "m.drawparallels(np.linspace(10,50, 9) ,labels=[1,1,0,0])\n",
    "m.drawmeridians(np.linspace(-110, -80,7),labels=[0,0,0,1]) "
   ]
  }
 ],
 "metadata": {
  "kernelspec": {
   "display_name": "Python 2",
   "language": "python",
   "name": "python2"
  },
  "language_info": {
   "codemirror_mode": {
    "name": "ipython",
    "version": 2
   },
   "file_extension": ".py",
   "mimetype": "text/x-python",
   "name": "python",
   "nbconvert_exporter": "python",
   "pygments_lexer": "ipython2",
   "version": "2.7.10"
  }
 },
 "nbformat": 4,
 "nbformat_minor": 0
}
