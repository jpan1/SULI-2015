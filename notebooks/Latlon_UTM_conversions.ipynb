{
 "cells": [
  {
   "cell_type": "code",
   "execution_count": 25,
   "metadata": {
    "collapsed": true
   },
   "outputs": [],
   "source": [
    "import numpy as np\n",
    "from matplotlib import pyplot as plt\n",
    "from pyproj import Proj\n",
    "from pandas import DataFrame"
   ]
  },
  {
   "cell_type": "code",
   "execution_count": 26,
   "metadata": {
    "collapsed": true
   },
   "outputs": [],
   "source": [
    "SGP_lat = 36.491\n",
    "SGP_lon = -97.595"
   ]
  },
  {
   "cell_type": "code",
   "execution_count": 27,
   "metadata": {
    "collapsed": false
   },
   "outputs": [],
   "source": [
    "#pyproj object used for conversions\n",
    "myProj = Proj(\"+proj=utm +zone=14S, +north +ellps=WGS84 +datum=WGS84 +units=m +no_defs\")"
   ]
  },
  {
   "cell_type": "code",
   "execution_count": 37,
   "metadata": {
    "collapsed": false
   },
   "outputs": [],
   "source": [
    "UTMx, UTMy = myProj(SGP_lon, SGP_lat)\n",
    "x, y = UTMx/1000.00, UTMy/1000.00\n"
   ]
  },
  {
   "cell_type": "code",
   "execution_count": 38,
   "metadata": {
    "collapsed": false
   },
   "outputs": [
    {
     "name": "stdout",
     "output_type": "stream",
     "text": [
      "625.843431953 4039.32746654\n"
     ]
    }
   ],
   "source": [
    "#SGP location in UTM\n",
    "print x, y"
   ]
  },
  {
   "cell_type": "code",
   "execution_count": null,
   "metadata": {
    "collapsed": true
   },
   "outputs": [],
   "source": []
  },
  {
   "cell_type": "code",
   "execution_count": 2,
   "metadata": {
    "collapsed": true
   },
   "outputs": [],
   "source": [
    "#Conversion Trials (not relevant to SGP)\n",
    "x = (529025.00, 529114.00, 545227.00, 545582.00)\n",
    "y = (7422210.00, 7422343.00, 7435702.00, 7435741.00)"
   ]
  },
  {
   "cell_type": "code",
   "execution_count": 3,
   "metadata": {
    "collapsed": false
   },
   "outputs": [
    {
     "data": {
      "text/html": [
       "<div style=\"max-height:1000px;max-width:1500px;overflow:auto;\">\n",
       "<table border=\"1\" class=\"dataframe\">\n",
       "  <thead>\n",
       "    <tr style=\"text-align: right;\">\n",
       "      <th></th>\n",
       "      <th>Meters East</th>\n",
       "      <th>Meters South</th>\n",
       "    </tr>\n",
       "  </thead>\n",
       "  <tbody>\n",
       "    <tr>\n",
       "      <th>0</th>\n",
       "      <td> 529025</td>\n",
       "      <td> 7422210</td>\n",
       "    </tr>\n",
       "    <tr>\n",
       "      <th>1</th>\n",
       "      <td> 529114</td>\n",
       "      <td> 7422343</td>\n",
       "    </tr>\n",
       "    <tr>\n",
       "      <th>2</th>\n",
       "      <td> 545227</td>\n",
       "      <td> 7435702</td>\n",
       "    </tr>\n",
       "    <tr>\n",
       "      <th>3</th>\n",
       "      <td> 545582</td>\n",
       "      <td> 7435741</td>\n",
       "    </tr>\n",
       "  </tbody>\n",
       "</table>\n",
       "</div>"
      ],
      "text/plain": [
       "   Meters East  Meters South\n",
       "0       529025       7422210\n",
       "1       529114       7422343\n",
       "2       545227       7435702\n",
       "3       545582       7435741"
      ]
     },
     "execution_count": 3,
     "metadata": {},
     "output_type": "execute_result"
    }
   ],
   "source": [
    "dataframe = DataFrame(np.c_[x,y], columns = ['Meters East', 'Meters South'])\n",
    "dataframe"
   ]
  },
  {
   "cell_type": "code",
   "execution_count": 4,
   "metadata": {
    "collapsed": true
   },
   "outputs": [],
   "source": [
    "#myProj = Proj(proj='utm', zone='23K', ellps='WGS84', datum='WGS84', units='m')"
   ]
  },
  {
   "cell_type": "code",
   "execution_count": 13,
   "metadata": {
    "collapsed": true
   },
   "outputs": [],
   "source": [
    "lon, lat = myProj(dataframe['Meters East'].values, dataframe['Meters South'].values, inverse = True)"
   ]
  },
  {
   "cell_type": "code",
   "execution_count": 15,
   "metadata": {
    "collapsed": true
   },
   "outputs": [],
   "source": [
    "UTMx, UTMy = myProj(lon, lat)"
   ]
  },
  {
   "cell_type": "code",
   "execution_count": 16,
   "metadata": {
    "collapsed": false
   },
   "outputs": [
    {
     "data": {
      "text/html": [
       "<div style=\"max-height:1000px;max-width:1500px;overflow:auto;\">\n",
       "<table border=\"1\" class=\"dataframe\">\n",
       "  <thead>\n",
       "    <tr style=\"text-align: right;\">\n",
       "      <th></th>\n",
       "      <th>UTMx</th>\n",
       "      <th>UTMy</th>\n",
       "      <th>Longitude</th>\n",
       "      <th>Latitude</th>\n",
       "    </tr>\n",
       "  </thead>\n",
       "  <tbody>\n",
       "    <tr>\n",
       "      <th>0</th>\n",
       "      <td> 529025</td>\n",
       "      <td> 7422210</td>\n",
       "      <td>-98.336594</td>\n",
       "      <td> 66.916353</td>\n",
       "    </tr>\n",
       "    <tr>\n",
       "      <th>1</th>\n",
       "      <td> 529114</td>\n",
       "      <td> 7422343</td>\n",
       "      <td>-98.334528</td>\n",
       "      <td> 66.917537</td>\n",
       "    </tr>\n",
       "    <tr>\n",
       "      <th>2</th>\n",
       "      <td> 545227</td>\n",
       "      <td> 7435702</td>\n",
       "      <td>-97.961192</td>\n",
       "      <td> 67.035383</td>\n",
       "    </tr>\n",
       "    <tr>\n",
       "      <th>3</th>\n",
       "      <td> 545582</td>\n",
       "      <td> 7435741</td>\n",
       "      <td>-97.953025</td>\n",
       "      <td> 67.035679</td>\n",
       "    </tr>\n",
       "  </tbody>\n",
       "</table>\n",
       "</div>"
      ],
      "text/plain": [
       "     UTMx     UTMy  Longitude   Latitude\n",
       "0  529025  7422210 -98.336594  66.916353\n",
       "1  529114  7422343 -98.334528  66.917537\n",
       "2  545227  7435702 -97.961192  67.035383\n",
       "3  545582  7435741 -97.953025  67.035679"
      ]
     },
     "execution_count": 16,
     "metadata": {},
     "output_type": "execute_result"
    }
   ],
   "source": [
    "bleh = DataFrame(np.c_[UTMx, UTMy, lon, lat], columns = ['UTMx', 'UTMy', 'Longitude', 'Latitude'])\n",
    "bleh"
   ]
  }
 ],
 "metadata": {
  "kernelspec": {
   "display_name": "Python 2",
   "language": "python",
   "name": "python2"
  },
  "language_info": {
   "codemirror_mode": {
    "name": "ipython",
    "version": 2
   },
   "file_extension": ".py",
   "mimetype": "text/x-python",
   "name": "python",
   "nbconvert_exporter": "python",
   "pygments_lexer": "ipython2",
   "version": "2.7.10"
  }
 },
 "nbformat": 4,
 "nbformat_minor": 0
}
